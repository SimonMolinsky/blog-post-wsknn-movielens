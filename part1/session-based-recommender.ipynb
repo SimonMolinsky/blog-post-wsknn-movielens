{
 "cells": [
  {
   "cell_type": "markdown",
   "id": "bae07d76-6923-4589-a01c-c7d102947b8a",
   "metadata": {},
   "source": [
    "The code here follows the blogpost: https://ml-gis-service.com/index.php/2023/09/23/which-movie-should-you-recommend-next-session-based-recommendation-engine-in-python-part-1/"
   ]
  },
  {
   "cell_type": "code",
   "execution_count": 5,
   "id": "fc6c1817-71e7-4428-8a26-ff01b1443ff1",
   "metadata": {},
   "outputs": [],
   "source": [
    "import numpy as np\n",
    "from wsknn import fit\n",
    "from wsknn.preprocessing.parse_static import parse_flat_file"
   ]
  },
  {
   "cell_type": "code",
   "execution_count": 2,
   "id": "8d48702a-a953-413a-9d00-76ecf0736845",
   "metadata": {},
   "outputs": [],
   "source": [
    "fpath = 'ml-100k/u.data'\n",
    "ds = parse_flat_file(fpath, sep='\\t', session_index=0, product_index=1, time_index=3, time_to_numeric=True)"
   ]
  },
  {
   "cell_type": "code",
   "execution_count": 8,
   "id": "4b11572d-d9d7-46fb-a1ba-da6a08f9756b",
   "metadata": {},
   "outputs": [
    {
     "name": "stdout",
     "output_type": "stream",
     "text": [
      "Sessions object statistics:\n",
      "*Number of unique sessions: 943\n",
      "*The longest event stream size per session: 737\n",
      "*Period start: 1997-09-20T05:05:10.000000Z\n",
      "*Period end: 1998-04-23T01:10:38.000000Z\n"
     ]
    }
   ],
   "source": [
    "print(ds[1])"
   ]
  },
  {
   "cell_type": "code",
   "execution_count": 26,
   "id": "538da8d0-e6aa-4d99-8ab9-32ea96e702d4",
   "metadata": {},
   "outputs": [],
   "source": [
    "def train_validate_samples(set_of_sessions):\n",
    "    \n",
    "    sessions_keys = list(set_of_sessions.keys())\n",
    "    n_sessions = int(0.1 * len(sessions_keys))\n",
    "    key_sample = np.random.choice(sessions_keys, n_sessions)\n",
    "    \n",
    "    training_set = {_key: set_of_sessions[_key] for _key in sessions_keys if _key not in key_sample}\n",
    "    validation_set = [set_of_sessions[_key] for _key in key_sample]\n",
    "    \n",
    "    return training_set, validation_set"
   ]
  },
  {
   "cell_type": "code",
   "execution_count": 27,
   "id": "0195cbab-bf56-4a32-a429-6c2e9a1b9bf3",
   "metadata": {},
   "outputs": [],
   "source": [
    "training_ds, validation_ds = train_validate_samples(ds[1].session_items_actions_map)"
   ]
  },
  {
   "cell_type": "code",
   "execution_count": 25,
   "id": "832b2c09-e440-4fdc-95bc-0909e32c8d15",
   "metadata": {},
   "outputs": [],
   "source": [
    "model = fit(sessions=training_ds,\n",
    "            number_of_recommendations=5,\n",
    "            number_of_neighbors=10,\n",
    "            sampling_strategy='recent',\n",
    "            sample_size=50,\n",
    "            weighting_func='log',\n",
    "            ranking_strategy='log',\n",
    "            return_events_from_session=False,\n",
    "            recommend_any=False)"
   ]
  },
  {
   "cell_type": "code",
   "execution_count": 28,
   "id": "f487566a-6a7c-4dc3-9752-9e3026d02edd",
   "metadata": {},
   "outputs": [],
   "source": [
    "def get_movie_name(movie_id: str):\n",
    "    with open('ml-100k/u.item', 'r', encoding = \"ISO-8859-1\") as fin:\n",
    "        for line in fin:\n",
    "            splitted = line.split('|')\n",
    "            if movie_id == splitted[0]:\n",
    "                return splitted[1]"
   ]
  },
  {
   "cell_type": "code",
   "execution_count": 29,
   "id": "49340db3-6e32-49fa-8bee-1bf0079121d2",
   "metadata": {},
   "outputs": [
    {
     "name": "stdout",
     "output_type": "stream",
     "text": [
      "User watched\n",
      "['French Twist (Gazon maudit) (1995)', 'Sabrina (1954)', 'Brazil (1985)', 'Laura (1944)', 'Twelve Monkeys (1995)', 'Fargo (1996)', 'Smoke (1995)', 'Sunset Blvd. (1950)', 'Secrets & Lies (1996)', 'Bonnie and Clyde (1967)', 'Evita (1996)', 'Boogie Nights (1997)', 'Dial M for Murder (1954)', 'Notorious (1946)', 'Manchurian Candidate, The (1962)', 'Secret of Roan Inish, The (1994)', 'Stand by Me (1986)', 'Mother (1996)', 'Hoop Dreams (1994)', 'Unforgiven (1992)', 'Cape Fear (1991)', 'Lone Star (1996)', 'Emma (1996)', 'Get Shorty (1995)', 'House of the Spirits, The (1993)', 'Braveheart (1995)', 'Dirty Dancing (1987)', 'Liar Liar (1997)', 'M (1931)', 'Shawshank Redemption, The (1994)', 'Barcelona (1994)', '39 Steps, The (1935)', 'Shining, The (1980)', 'Sling Blade (1996)', 'Glory (1989)', 'Substance of Fire, The (1996)', \"Singin' in the Rain (1952)\", 'City Hall (1996)', 'Clueless (1995)', 'My Left Foot (1989)', '2001: A Space Odyssey (1968)', 'African Queen, The (1951)', 'Abyss, The (1989)', 'Amadeus (1984)', \"It's a Wonderful Life (1946)\", 'True Lies (1994)', 'Treasure of the Sierra Madre, The (1948)', 'Reservoir Dogs (1992)', \"Widows' Peak (1994)\", 'Snow White and the Seven Dwarfs (1937)', 'Sting, The (1973)', 'Beauty and the Beast (1991)', 'Kicking and Screaming (1995)', 'Carrie (1976)', 'Cinderella (1950)', 'Glengarry Glen Ross (1992)', 'Aliens (1986)', 'Butch Cassidy and the Sundance Kid (1969)', 'Bad Moon (1996)', 'Sense and Sensibility (1995)', 'Bridges of Madison County, The (1995)', 'Jaws (1975)', 'Monty Python and the Holy Grail (1974)', 'Bringing Up Baby (1938)', 'Trainspotting (1996)', 'Full Monty, The (1997)', 'Thin Man, The (1934)', 'Around the World in 80 Days (1956)', 'Terminator, The (1984)', 'Deer Hunter, The (1978)', 'Mighty Aphrodite (1995)', 'Alien (1979)', 'Wizard of Oz, The (1939)', 'Alice in Wonderland (1951)', 'Tin Men (1987)', 'Blues Brothers, The (1980)', 'Bridge on the River Kwai, The (1957)', 'Better Off Dead... (1985)', 'Heavenly Creatures (1994)', 'Casablanca (1942)', 'Pulp Fiction (1994)', 'Rear Window (1954)', 'Godfather, The (1972)', 'Gone with the Wind (1939)', 'Silence of the Lambs, The (1991)', 'Toy Story (1995)', 'Rosencrantz and Guildenstern Are Dead (1990)', 'Die Hard (1988)', 'Browning Version, The (1994)', 'Dr. Strangelove or: How I Learned to Stop Worrying and Love the Bomb (1963)', 'Jurassic Park (1993)', 'Magnificent Seven, The (1954)', 'When Harry Met Sally... (1989)', 'M*A*S*H (1970)', 'Shine (1996)', \"One Flew Over the Cuckoo's Nest (1975)\", 'On Golden Pond (1981)', 'Top Gun (1986)', 'Basketball Diaries, The (1995)', 'Star Wars (1977)', 'Platoon (1986)', 'L.A. Confidential (1997)', 'Persuasion (1995)', 'All About Eve (1950)', 'Breaking the Waves (1996)', 'Fantasia (1940)', 'Cold Comfort Farm (1995)', 'U Turn (1997)', 'American President, The (1995)', 'North by Northwest (1959)', 'Gandhi (1982)', 'Sabrina (1995)', 'Game, The (1997)', 'Desperado (1995)', \"Devil's Own, The (1997)\", 'Pinocchio (1940)', 'Raiders of the Lost Ark (1981)', 'Bound (1996)', '12 Angry Men (1957)', 'Seven (Se7en) (1995)', 'GoodFellas (1990)', 'Citizen Kane (1941)', 'Big Night (1996)', 'Like Water For Chocolate (Como agua para chocolate) (1992)', 'Patton (1970)', 'Being There (1979)', 'Bronx Tale, A (1993)', 'Lawrence of Arabia (1962)', 'Crumb (1994)', 'Third Man, The (1949)', 'My Life as a Dog (Mitt liv som hund) (1985)', 'Paris, Texas (1984)', 'Man Who Would Be King, The (1975)', 'Everyone Says I Love You (1996)', 'Heat (1995)', 'Casino (1995)', 'Graduate, The (1967)', 'Forrest Gump (1994)', 'Three Colors: Blue (1993)', 'Sex, Lies, and Videotape (1989)', 'Cinema Paradiso (1988)', 'American in Paris, An (1951)', 'Piano, The (1993)', 'Wonderful, Horrible Life of Leni Riefenstahl, The (1993)', 'Psycho (1960)', 'Cat on a Hot Tin Roof (1958)', 'Leaving Las Vegas (1995)', 'Victor/Victoria (1982)', 'Philadelphia Story, The (1940)', 'Three Colors: Red (1994)', 'Raging Bull (1980)', 'Chinatown (1974)', 'Strictly Ballroom (1992)', 'Some Like It Hot (1959)', 'My Favorite Year (1982)', \"Miller's Crossing (1990)\", 'Blue Angel, The (Blaue Engel, Der) (1930)', 'Star Trek IV: The Voyage Home (1986)', 'Tombstone (1993)', 'Little Women (1994)', 'Wild Bunch, The (1969)', 'Raising Arizona (1987)', 'Bananas (1971)', 'Duck Soup (1933)', 'Apocalypse Now (1979)', 'Four Weddings and a Funeral (1994)', 'Taxi Driver (1976)', 'Miami Rhapsody (1995)', 'Big Sleep, The (1946)', 'Fish Called Wanda, A (1988)', 'Ref, The (1994)', 'To Wong Foo, Thanks for Everything! Julie Newmar (1995)', 'Usual Suspects, The (1995)', 'English Patient, The (1996)', 'Clockwork Orange, A (1971)', 'Vertigo (1958)', 'Gigi (1958)', 'Enchanted April (1991)', 'Maltese Falcon, The (1941)', 'Perfect World, A (1993)', 'It Happened One Night (1934)', 'Welcome to the Dollhouse (1995)', 'Dead Man Walking (1995)', 'Nikita (La Femme Nikita) (1990)']\n",
      "Recommendations\n",
      "Item: Empire Strikes Back, The (1980) | weight: 1.0917615264629892\n",
      "Item: This Is Spinal Tap (1984) | weight: 1.0275246865641505\n",
      "Item: Apollo 13 (1995) | weight: 1.0275246865641505\n",
      "Item: Schindler's List (1993) | weight: 1.0250304896191114\n",
      "Item: Groundhog Day (1993) | weight: 1.0250304896191114\n",
      "---\n",
      "\n",
      "User watched\n",
      "['Men in Black (1997)', 'Truth About Cats & Dogs, The (1996)', \"My Best Friend's Wedding (1997)\", 'North by Northwest (1959)', 'If Lucy Fell (1996)', 'French Twist (Gazon maudit) (1995)', 'Twelve Monkeys (1995)', 'Godfather, The (1972)', 'Spitfire Grill, The (1996)', 'Jaws (1975)', 'Willy Wonka and the Chocolate Factory (1971)', 'Vertigo (1958)', 'Mars Attacks! (1996)', 'Hoop Dreams (1994)', \"Devil's Own, The (1997)\", 'Lawrence of Arabia (1962)', 'Star Trek: First Contact (1996)', 'Crumb (1994)', 'Terminator 2: Judgment Day (1991)', 'Birdcage, The (1996)', 'Primal Fear (1996)', \"She's the One (1996)\", 'My Fellow Americans (1996)', 'Lone Star (1996)', 'GoodFellas (1990)', 'My Life as a Dog (Mitt liv som hund) (1985)', 'City Hall (1996)', 'Star Wars (1977)', 'Adventures of Pinocchio, The (1996)', 'Heat (1995)', 'English Patient, The (1996)', 'Boot, Das (1981)', 'Richard III (1995)', 'First Wives Club, The (1996)', \"Jackie Chan's First Strike (1996)\", 'Contact (1997)', 'Six Degrees of Separation (1993)', 'Clerks (1994)', 'Trainspotting (1996)', '2001: A Space Odyssey (1968)', 'Courage Under Fire (1996)', 'Usual Suspects, The (1995)', \"Antonia's Line (1995)\", 'Back to the Future (1985)', 'Mighty Aphrodite (1995)', 'Jerry Maguire (1996)', 'Toy Story (1995)', 'Leaving Las Vegas (1995)', 'Sleepers (1996)', 'Dead Man Walking (1995)', 'Rock, The (1996)', 'Casablanca (1942)', 'Magnificent Seven, The (1954)', 'Cold Comfort Farm (1995)', 'Saint, The (1997)', 'Aladdin (1992)', 'Star Trek: The Wrath of Khan (1982)', 'Sense and Sensibility (1995)', 'Better Off Dead... (1985)', 'Monty Python and the Holy Grail (1974)', 'Big Night (1996)', 'Twister (1996)', \"Mr. Holland's Opus (1995)\", 'Close Shave, A (1995)', 'Fargo (1996)', 'Return of the Jedi (1983)', 'Before and After (1996)', 'Kingpin (1996)']\n",
      "Recommendations\n",
      "Item: Raiders of the Lost Ark (1981) | weight: 1.3488079691609707\n",
      "Item: True Lies (1994) | weight: 1.3488079691609707\n",
      "Item: Terminator, The (1984) | weight: 1.3488079691609707\n",
      "Item: Aliens (1986) | weight: 1.269264685932151\n",
      "Item: Silence of the Lambs, The (1991) | weight: 1.269264685932151\n",
      "---\n",
      "\n",
      "User watched\n",
      "['Waterworld (1995)', 'Santa Clause, The (1994)', 'Clueless (1995)', 'Groundhog Day (1993)', 'Babe (1995)', 'Clockers (1995)', 'Madness of King George, The (1994)', 'Client, The (1994)', 'Before and After (1996)', \"What's Eating Gilbert Grape (1993)\", 'Evita (1996)', 'Dead Presidents (1995)', 'Sabrina (1995)', 'Dead Poets Society (1989)', 'Field of Dreams (1989)', 'Pocahontas (1995)', 'Amadeus (1984)', 'Willy Wonka and the Chocolate Factory (1971)', 'Crooklyn (1994)', 'Good Will Hunting (1997)', 'I Love Trouble (1994)', 'On Golden Pond (1981)', \"She's So Lovely (1997)\", 'Get Shorty (1995)', '20,000 Leagues Under the Sea (1954)', 'Addams Family Values (1993)', 'Maverick (1994)', 'Graduate, The (1967)', 'Dirty Dancing (1987)', 'People vs. Larry Flynt, The (1996)', 'Paper, The (1994)', 'Frighteners, The (1996)', 'Clockwork Orange, A (1971)', 'Basic Instinct (1992)', 'Carrie (1976)', 'Ghost and the Darkness, The (1996)', 'Broken Arrow (1996)', 'Rob Roy (1995)', 'Grumpier Old Men (1995)', 'Grease 2 (1982)', 'Star Trek: First Contact (1996)', 'Under Siege (1992)', 'Jungle Book, The (1994)', 'Serial Mom (1994)', 'Higher Learning (1995)', 'Tin Cup (1996)', 'Grease (1978)', 'Passion Fish (1992)', 'Get on the Bus (1996)', 'L.A. Confidential (1997)', 'Fly Away Home (1996)', 'Scream (1996)', 'Gandhi (1982)', 'Leaving Las Vegas (1995)', 'While You Were Sleeping (1995)', 'Outbreak (1995)', 'In & Out (1997)', \"What's Love Got to Do with It (1993)\", 'Sleepless in Seattle (1993)', 'Michael (1996)', 'Batman Forever (1995)', 'Nutty Professor, The (1996)', 'Brazil (1985)', 'Cliffhanger (1993)', 'Made in America (1993)', 'Alice in Wonderland (1951)', 'Pretty Woman (1990)', 'Richard III (1995)', 'Star Trek IV: The Voyage Home (1986)', 'Fly Away Home (1996)', 'Hunchback of Notre Dame, The (1996)', 'Lost World: Jurassic Park, The (1997)', 'Corrina, Corrina (1994)', 'Gone with the Wind (1939)', 'Stand by Me (1986)', 'Emma (1996)', 'Fantasia (1940)', 'Evening Star, The (1996)', 'Mary Poppins (1964)', 'Little Women (1994)', 'Sting, The (1973)', 'City Hall (1996)', 'Contact (1997)', 'Murder in the First (1995)', 'Boys on the Side (1995)', 'Cinderella (1950)', 'Hoop Dreams (1994)', 'Mother (1996)', 'Fargo (1996)', \"Jason's Lyric (1994)\", 'Trigger Effect, The (1996)', 'Dead Man Walking (1995)', 'Independence Day (ID4) (1996)', 'Malice (1993)', 'Courage Under Fire (1996)', 'Madonna: Truth or Dare (1991)', 'English Patient, The (1996)', 'Star Wars (1977)', 'Sweet Hereafter, The (1997)', 'Star Trek: The Motion Picture (1979)', 'Last of the Mohicans, The (1992)', 'Mission: Impossible (1996)', 'Farewell My Concubine (1993)', 'Usual Suspects, The (1995)', 'Operation Dumbo Drop (1995)', 'Alien 3 (1992)', 'Conspiracy Theory (1997)', 'Heathers (1989)', 'Empire Strikes Back, The (1980)', 'Escape from New York (1981)', 'Beyond Rangoon (1995)', 'Dazed and Confused (1993)', 'Casper (1995)', 'Circle of Friends (1995)', 'Batman Returns (1992)', 'Breakdown (1997)', 'Brady Bunch Movie, The (1995)', 'Raiders of the Lost Ark (1981)', 'I.Q. (1994)', 'Good Man in Africa, A (1994)', 'Don Juan DeMarco (1995)', 'Interview with the Vampire (1994)', 'Nightmare Before Christmas, The (1993)', 'Aliens (1986)', 'Up Close and Personal (1996)', 'Terminator, The (1984)', 'E.T. the Extra-Terrestrial (1982)', 'G.I. Jane (1997)', 'Die Hard 2 (1990)', 'That Thing You Do! (1996)', 'Rock, The (1996)', 'Searching for Bobby Fischer (1993)', 'Doors, The (1991)', 'Stargate (1994)', 'Mars Attacks! (1996)', 'Michael Collins (1996)', 'Extreme Measures (1996)', 'White Squall (1996)', 'Bullets Over Broadway (1994)', 'Star Trek: Generations (1994)', 'In the Line of Fire (1993)', 'Sling Blade (1996)', 'Platoon (1986)', 'Menace II Society (1993)', 'Twelve Monkeys (1995)', 'Indiana Jones and the Last Crusade (1989)', 'True Lies (1994)', 'Dave (1993)', 'Crow, The (1994)', 'Dumbo (1941)', \"It's a Wonderful Life (1946)\", \"Mr. Holland's Opus (1995)\", 'Casino (1995)', 'Grosse Pointe Blank (1997)', 'Age of Innocence, The (1993)', 'Glory (1989)', 'Seven (Se7en) (1995)', 'Pinocchio (1940)', \"She's the One (1996)\", 'Home for the Holidays (1995)', 'Specialist, The (1994)', 'Blue Sky (1994)', 'GoodFellas (1990)', 'Restoration (1995)', 'Crying Game, The (1992)', 'Short Cuts (1993)', \"Bram Stoker's Dracula (1992)\", 'Batman (1989)', \"Sophie's Choice (1982)\", 'First Knight (1995)', 'Shining, The (1980)', 'Truth About Cats & Dogs, The (1996)', 'Secrets & Lies (1996)', 'Fish Called Wanda, A (1988)', 'Die Hard (1988)', 'Muppet Treasure Island (1996)', 'Ready to Wear (Pret-A-Porter) (1994)', 'Shadowlands (1993)', 'Low Down Dirty Shame, A (1994)', 'Men in Black (1997)', 'Blown Away (1994)', 'Picture Bride (1995)', 'Father of the Bride Part II (1995)', 'Unforgiven (1992)', 'Spitfire Grill, The (1996)', 'Just Cause (1995)', 'Perfect World, A (1993)', 'Nell (1994)', 'Snow White and the Seven Dwarfs (1937)', 'Return of the Jedi (1983)', 'Chamber, The (1996)', 'Winnie the Pooh and the Blustery Day (1968)', 'Barcelona (1994)', 'Star Trek V: The Final Frontier (1989)', 'Everyone Says I Love You (1996)', 'Immortal Beloved (1994)', 'First Wives Club, The (1996)', 'Victor/Victoria (1982)', 'American President, The (1995)', 'Manhattan (1979)', 'Stealing Beauty (1996)', 'Fog, The (1980)', 'Air Force One (1997)', 'Top Gun (1986)', 'Braveheart (1995)', \"City Slickers II: The Legend of Curly's Gold (1994)\", 'Star Trek VI: The Undiscovered Country (1991)', 'My Fair Lady (1964)', 'Four Weddings and a Funeral (1994)', 'Sound of Music, The (1965)', 'Wizard of Oz, The (1939)', 'Jack (1996)', 'Speechless (1994)', \"Widows' Peak (1994)\", 'Poetic Justice (1993)', 'Apollo 13 (1995)', 'Powder (1995)', 'Ransom (1996)', 'River Wild, The (1994)', 'Primal Fear (1996)', 'Heat (1995)', 'Killing Fields, The (1984)', 'Roommates (1995)', 'Jaws (1975)', 'Down Periscope (1996)', 'Liar Liar (1997)', 'Far From Home: The Adventures of Yellow Dog (1995)', 'Time to Kill, A (1996)', 'Little Princess, A (1995)', 'Chain Reaction (1996)', 'Persuasion (1995)', 'Face/Off (1997)', 'Apocalypse Now (1979)', 'Blue Chips (1994)', \"Devil's Own, The (1997)\", 'Substitute, The (1996)', 'To Die For (1995)', 'Vertigo (1958)', 'Copycat (1995)', 'Remains of the Day, The (1993)', 'Natural Born Killers (1994)', 'Clerks (1994)', 'War, The (1994)', 'Home Alone (1990)', 'Jerry Maguire (1996)', 'Phenomenon (1996)', 'Cool Runnings (1993)', 'Kingpin (1996)', \"Schindler's List (1993)\", 'Fugitive, The (1993)', 'Some Like It Hot (1959)', 'GoldenEye (1995)', 'City of Angels (1998)', 'Aladdin (1992)', 'Something to Talk About (1995)', 'Eraser (1996)', 'Jumanji (1995)', 'Crimson Tide (1995)', 'Cat People (1982)', 'Room with a View, A (1986)', 'Batman & Robin (1997)', 'Multiplicity (1996)', 'My Left Foot (1989)', 'Being There (1979)', 'Dumb & Dumber (1994)', 'Mirror Has Two Faces, The (1996)', 'Mrs. Doubtfire (1993)', 'Beautiful Girls (1996)', 'Rudy (1993)', '2001: A Space Odyssey (1968)', 'Disclosure (1994)', 'Benny & Joon (1993)', 'Piano, The (1993)', 'Speed (1994)', 'Full Monty, The (1997)', 'Blues Brothers, The (1980)', 'Diabolique (1996)', 'Six Degrees of Separation (1993)', 'Strictly Ballroom (1992)', 'Three Colors: Red (1994)', 'Cape Fear (1991)', 'Nine Months (1995)', 'Toy Story (1995)', \"I'll Do Anything (1994)\", 'Quiz Show (1994)', 'Waiting to Exhale (1995)', 'Parent Trap, The (1961)', 'Cyrano de Bergerac (1990)', 'Angels in the Outfield (1994)', 'Sense and Sensibility (1995)', \"My Best Friend's Wedding (1997)\", 'Man Without a Face, The (1993)', 'Sex, Lies, and Videotape (1989)', 'Indian in the Cupboard, The (1995)', 'Orlando (1993)', 'Now and Then (1995)', 'Butch Cassidy and the Sundance Kid (1969)', 'Firm, The (1993)', 'Mighty Aphrodite (1995)', 'Princess Bride, The (1987)', 'In the Name of the Father (1993)', 'Clear and Present Danger (1994)', 'Private Benjamin (1980)', 'All About Eve (1950)', 'Postino, Il (1994)', 'Panther (1995)', 'Enchanted April (1991)', \"Muriel's Wedding (1994)\", 'To Wong Foo, Thanks for Everything! Julie Newmar (1995)', 'Sneakers (1992)', 'Blade Runner (1982)', 'Craft, The (1996)', 'Adventures of Priscilla, Queen of the Desert, The (1994)', 'Nixon (1995)', 'Twister (1996)', 'Glengarry Glen Ross (1992)', 'Misérables, Les (1995)', 'How to Make an American Quilt (1995)', 'Silence of the Lambs, The (1991)', 'Terminator 2: Judgment Day (1991)', 'Alien (1979)', 'Ed Wood (1994)', 'Dolores Claiborne (1994)', 'Professional, The (1994)', 'Reality Bites (1994)', 'Rosewood (1997)', 'Shine (1996)', 'Mary Reilly (1996)', 'Much Ado About Nothing (1993)', \"Dante's Peak (1997)\", 'Right Stuff, The (1983)', 'When a Man Loves a Woman (1994)', '101 Dalmatians (1996)', 'Ace Ventura: Pet Detective (1994)', 'When Harry Met Sally... (1989)', 'Lion King, The (1994)', 'Pulp Fiction (1994)', 'Abyss, The (1989)', 'Tombstone (1993)', 'James and the Giant Peach (1996)', 'Shawshank Redemption, The (1994)', 'Dear God (1996)', 'First Kid (1996)', 'Hunt for Red October, The (1990)', 'Titanic (1997)', \"Marvin's Room (1996)\", \"Mary Shelley's Frankenstein (1994)\", 'Heaven & Earth (1993)', 'Birds, The (1963)', 'Die Hard: With a Vengeance (1995)', 'Forrest Gump (1994)', 'Wolf (1994)', 'Beauty and the Beast (1991)', 'Very Brady Sequel, A (1996)', 'Three Musketeers, The (1993)', 'Coneheads (1993)', 'Jurassic Park (1993)', 'Back to the Future (1985)', 'Junior (1994)', 'Fried Green Tomatoes (1991)', 'Little Buddha (1993)', 'Legends of the Fall (1994)', \"Nobody's Fool (1994)\", 'My Family (1995)', 'Dances with Wolves (1990)', 'Harold and Maude (1971)', 'Net, The (1995)', 'American Werewolf in London, An (1981)', 'Birdcage, The (1996)', \"Pete's Dragon (1977)\", 'Philadelphia (1993)', 'Raising Arizona (1987)', 'Ghost (1990)', 'Amityville Horror, The (1979)', 'Free Willy (1993)']\n",
      "Recommendations\n",
      "Item: Monty Python and the Holy Grail (1974) | weight: 0.6978964165435747\n",
      "Item: Real Genius (1985) | weight: 0.6797373405445082\n",
      "Item: Nightmare on Elm Street, A (1984) | weight: 0.6381018974921375\n",
      "Item: Highlander (1986) | weight: 0.6290597916418321\n",
      "Item: Godfather, The (1972) | weight: 0.6266789265115869\n",
      "---\n",
      "\n"
     ]
    }
   ],
   "source": [
    "for ts in validation_ds[:3]:\n",
    "    print('User watched')\n",
    "    print(str([get_movie_name(x) for x in ts[0]]))\n",
    "    print('Recommendations')\n",
    "    recs = model.recommend(ts)\n",
    "    for rec in recs:\n",
    "        print('Item:', get_movie_name(rec[0]), '| weight:', rec[1])\n",
    "    print('---')\n",
    "    print('')"
   ]
  },
  {
   "cell_type": "code",
   "execution_count": null,
   "id": "78ce4043-910c-447d-965b-335c4ed1db5e",
   "metadata": {},
   "outputs": [],
   "source": []
  }
 ],
 "metadata": {
  "kernelspec": {
   "display_name": "Python 3 (ipykernel)",
   "language": "python",
   "name": "python3"
  },
  "language_info": {
   "codemirror_mode": {
    "name": "ipython",
    "version": 3
   },
   "file_extension": ".py",
   "mimetype": "text/x-python",
   "name": "python",
   "nbconvert_exporter": "python",
   "pygments_lexer": "ipython3",
   "version": "3.10.12"
  }
 },
 "nbformat": 4,
 "nbformat_minor": 5
}
